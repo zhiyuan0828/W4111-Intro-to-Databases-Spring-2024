{
 "cells": [
  {
   "cell_type": "markdown",
   "id": "6baaee96",
   "metadata": {},
   "source": [
    "<style  type=\"text/css\">\n",
    "cool {\n",
    "  width: 100px;\n",
    "  height: 100px;\n",
    "  background-color: red;\n",
    "  position: relative;\n",
    "  -webkit-animation-name: example; /* Safari 4.0 - 8.0 */\n",
    "  -webkit-animation-duration: 4s; /* Safari 4.0 - 8.0 */\n",
    "  -webkit-animation-iteration-count: infinite; /* Safari 4.0 - 8.0 */\n",
    "  animation-name: example;\n",
    "  animation-duration: 4s;\n",
    "  animation-iteration-count: infinite;\n",
    "}\n",
    "\n",
    "loud {\n",
    "    font-size: 20pt;\n",
    "    }\n",
    "\n",
    "/* Safari 4.0 - 8.0 */\n",
    "@-webkit-keyframes example {\n",
    "  0%   {background-color:red; left:0px; top:0px;}\n",
    "  25%  {background-color:yellow; left:200px; top:0px;}\n",
    "  50%  {background-color:blue; left:200px; top:200px;}\n",
    "  75%  {background-color:green; left:0px; top:200px;}\n",
    "  100% {background-color:red; left:0px; top:0px;}\n",
    "}\n",
    "\n",
    "/* Standard syntax */\n",
    "@keyframes example {\n",
    "  0%   {background-color:red; left:0px; top:0px;}\n",
    "  25%  {background-color:yellow; left:200px; top:0px;}\n",
    "  50%  {background-color:blue; left:200px; top:200px;}\n",
    "  75%  {background-color:green; left:0px; top:200px;}\n",
    "  100% {background-color:red; left:0px; top:0px;}\n",
    "}\n",
    "</style>\n",
    "\n",
    "<b><center>\n",
    "<span style=\"font-size: 24pt; line-height: 1.2\">\n",
    "COMS W4111: Introduction to Databases<br>\n",
    "Spring 2024, Sections 002/V02\n",
    "</span>\n",
    "</center></b>\n",
    "<br>\n",
    "<p>\n",
    "<i><center>\n",
    "<span style=\"font-size: 20pt; line-height: 1.2\">\n",
    "Homework 2: Common\n",
    "</span>\n",
    "</center></i>"
   ]
  },
  {
   "cell_type": "markdown",
   "id": "db195160",
   "metadata": {},
   "source": [
    "# Introduction\n",
    "\n",
    "This notebook contains HW2 Common. **Students on both tracks should complete this part.** To ensure everything runs as expected, work on this notebook in Jupyter.\n",
    "\n",
    "Submission instructions:\n",
    "\n",
    "- You will submit **a PDF** for this assignment\n",
    "    - The most reliable way to save as PDF is to go to your browser's menu bar and click `File -> Print`. **Switch the orientation to landscape mode**, and hit save.\n",
    "    - **MAKE SURE ALL YOUR WORK (CODE AND SCREENSHOTS) IS VISIBLE ON THE PDF. YOU WILL NOT GET CREDIT IF ANYTHING IS CUT OFF.** Reach out for troubleshooting."
   ]
  },
  {
   "cell_type": "markdown",
   "id": "6dc52cf5",
   "metadata": {},
   "source": [
    "<hr style=\"height:2px;\">"
   ]
  },
  {
   "cell_type": "markdown",
   "id": "db2468ad",
   "metadata": {},
   "source": [
    "# Written Questions"
   ]
  },
  {
   "cell_type": "markdown",
   "id": "617a19b5",
   "metadata": {},
   "source": [
    "## W1\n",
    "\n",
    "Explain Codd’s 3rd Rule.\n",
    "- What are some interpretations of a NULL value?\n",
    "- An alternative to using NULL is some other value for indicating missing data, e.g., using -1 for the value of a weight column. Explain the benefits of NULL relative to other approaches."
   ]
  },
  {
   "cell_type": "markdown",
   "id": "51afd801",
   "metadata": {},
   "source": [
    "NULL can be interpreted as one the following − data is missing, data is not known, or data is not applicable.\n",
    "\n",
    "Without NULL, we have to write explicitly \"weight != -1\" for each query, which will cause us lots of trouble. And this will vary from table to table."
   ]
  },
  {
   "cell_type": "markdown",
   "id": "100cb5a2",
   "metadata": {},
   "source": [
    "## W2\n",
    "\n",
    "Briefly explain the following concepts:\n",
    "1. Primary key\n",
    "2. Candidate key\n",
    "3. Super key\n",
    "4. Alternate key\n",
    "5. Composite key\n",
    "6. Unique key\n",
    "7. Foreign key"
   ]
  },
  {
   "cell_type": "markdown",
   "id": "0af79087",
   "metadata": {},
   "source": [
    "1. Primary Key: uniquely identifies each row in that table.\n",
    "2. Candidate Key: can uniquely identify each row in a table and from which one is chosen as the primary key.\n",
    "3. Super Key: can uniquely identify rows in a table, which may include additional columns not necessary for uniqueness.\n",
    "4. Alternate Key: can serve as a primary key but is not chosen as the primary key, essentially a candidate key that is not the primary key.\n",
    "5. Composite Key: made up of two or more columns used together as a primary key to uniquely identify rows in a table.\n",
    "6. Unique Key: a constraint that ensures all values in a column or a combination of columns are unique across all rows in the table, allowing null values.\n",
    "7. Foreign Key: refers to the primary key columns in another table, establishing a link between the two tables."
   ]
  },
  {
   "cell_type": "markdown",
   "id": "9ea33f40",
   "metadata": {},
   "source": [
    "## W3\n",
    "\n",
    "<img src=\"./written-diagram.png\">\n",
    "\n",
    "Consider the logical data model above. The one-to-one relationship is modeled using two foreign keys, one in each table.\n",
    "- Why does this make it difficult to insert data into the tables? \n",
    "- What is a (simple) fix for this, i.e., how would you model a one-to-one relationship?"
   ]
  },
  {
   "cell_type": "markdown",
   "id": "ca5adf14",
   "metadata": {},
   "source": [
    "- There is a circular reference problem when inserting rows. For example, when inserting rows into `students`, you have to know the mentor UNI, which has not been added into the `faculty` yet.\n",
    "- To fix this, we can allow the FK to be NULL temporarily."
   ]
  },
  {
   "cell_type": "markdown",
   "id": "ee08dea8",
   "metadata": {},
   "source": [
    "## W4\n",
    "\n",
    "The relational model places restrictions on attributes. Many data scenarios have more complex types of attributes. Briefly explain the following types of attributes:\n",
    "1. Simple attribute\n",
    "2. Composite attribute\n",
    "3. Derived attribute\n",
    "4. Single-value attribute\n",
    "5. Multi-value attribute"
   ]
  },
  {
   "cell_type": "markdown",
   "id": "7bfa599b",
   "metadata": {},
   "source": [
    "1. Simple Attribute: cannot be divided any further and consists of a single atomic value.\n",
    "2. Composite Attribute: made up of multiple simple attributes that can be divided into smaller parts. For example, a full name attribute could be divided into first name and last name.\n",
    "3. Derived Attribute: not stored in the table(database) but is derived from other stored attributes.\n",
    "4. Single-value Attribute: holds only one value for a given attribute at a time.\n",
    "5. Multi-value Attribute: can hold multiple values for a single attribute."
   ]
  },
  {
   "cell_type": "markdown",
   "id": "f9320b21",
   "metadata": {},
   "source": [
    "## W5\n",
    "\n",
    "The slides associated with the recommended textbook list six basic relational operators:\n",
    "1. select: σ\n",
    "2. project: π\n",
    "3. union: ∪\n",
    "4. set difference: -\n",
    "5. Cartesian product: ⨯\n",
    "6. rename: ρ\n",
    "\n",
    "\n",
    "The list does not include join: ⨝. This is because it is possible to derive join using more basic operators. Explain how to derive join from the basic operators."
   ]
  },
  {
   "cell_type": "markdown",
   "id": "7f77dabc",
   "metadata": {},
   "source": [
    "Like the example in the slide, assume there are two tables `instructor` and `teacher`, and we want to join with `ID`. Then we can do it with the following operation:\n",
    "\n",
    "$$\n",
    "\\sigma_{instructor.ID=teacher.ID}(instructor\\times teacher)=instructor⨝teacher\n",
    "$$"
   ]
  },
  {
   "cell_type": "markdown",
   "id": "5de438ce",
   "metadata": {},
   "source": [
    "## W6\n",
    "\n",
    "Explain how using a natural join may produce an incorrect/unexpected answer."
   ]
  },
  {
   "cell_type": "markdown",
   "id": "2fc6a29c",
   "metadata": {},
   "source": [
    "If there are columns that have the same name but are not intended to join on, a natural join will make mistakes."
   ]
  },
  {
   "cell_type": "markdown",
   "id": "b769889b",
   "metadata": {},
   "source": [
    "## W7\n",
    "\n",
    "The UNION and JOIN operations both combine two tables. Describe their differences."
   ]
  },
  {
   "cell_type": "markdown",
   "id": "fd99410b",
   "metadata": {},
   "source": [
    "UNOIN is used to append rows from one query with the rows from one another, concating the two tables \"vertically\".\n",
    "\n",
    "JOIN is used to append two tables by matching values in the column, concating them \"horizentally\"."
   ]
  },
  {
   "cell_type": "markdown",
   "id": "a298f48f",
   "metadata": {},
   "source": [
    "## W8\n",
    "\n",
    "Briefly explain the importance of integrity constraints. Why do non-atomic attributes cause problems/difficulties for integrity constraints?"
   ]
  },
  {
   "cell_type": "markdown",
   "id": "f64973d6",
   "metadata": {},
   "source": [
    "Integrity constraints are designed to keep the database accurate and consistent. Without integrity constraints, it will require lots of users know what to do and never make mistakes.\n",
    "\n",
    "Non-atomic attributes make it difficult to do intefrity because the individual elements can not be uniquely identified."
   ]
  },
  {
   "cell_type": "markdown",
   "id": "befb0076",
   "metadata": {},
   "source": [
    "## W9\n",
    "\n",
    "What is the primary reason for creating indexes? What are the negative effects of creating unnecessary indexes?"
   ]
  },
  {
   "cell_type": "markdown",
   "id": "801b31fb",
   "metadata": {},
   "source": [
    "- The primary reason for indexes is to improve query efficiency by only querying a subset of the atrributes.\n",
    "- If creating unnecessary indexes, it will cost extra storage spaces and slower our query."
   ]
  },
  {
   "cell_type": "markdown",
   "id": "ad5383ba",
   "metadata": {},
   "source": [
    "## W10\n",
    "\n",
    "Consider the table `time_slot` from the sample database associated with the recommended textbook.\n",
    "- The data type for the column `day` is `char(1)`. Given the data types MySQL supports, what is a better data type for `day`?\n",
    "- What is a scenario that would motivate creating an index on `day`?"
   ]
  },
  {
   "cell_type": "markdown",
   "id": "f1378ec3",
   "metadata": {},
   "source": [
    "- It is better to use ENUM type for `day`. Like ENUM('M', 'T', 'W', 'R', 'F', 'S', 'U') in order to keep integrity.\n",
    "- If queries frequently filter or join `day`, it will be better to create an index on `day`."
   ]
  },
  {
   "cell_type": "markdown",
   "id": "dedecd87",
   "metadata": {},
   "source": [
    "<hr style=\"height:2px;\">"
   ]
  },
  {
   "cell_type": "markdown",
   "id": "b3f98f46",
   "metadata": {},
   "source": [
    "# Relational Algebra"
   ]
  },
  {
   "cell_type": "markdown",
   "id": "d4f2fe60",
   "metadata": {},
   "source": [
    "## R1\n",
    "\n",
    "- Write a relational algebra statement that produces a relation showing **courses that do not have a prereq**\n",
    "- Your output should have the following columns (names should match exactly; there should be no prefixes):\n",
    "    - `course_id`\n",
    "    - `title`\n",
    "    - `dept_name`\n",
    "    - `credits`\n",
    "- You may not use the anti-join: ▷ operator\n",
    "- You should use the `course` and `prereq` tables"
   ]
  },
  {
   "cell_type": "markdown",
   "id": "e8990548",
   "metadata": {},
   "source": [
    "Algebra statement:\n",
    "\n",
    "```\n",
    "π course_id←course.course_id, title←course.title, dept_name←course.dept_name, credits←course.credits\n",
    "(σ prereq.prereq_id=NULL (course⟕prereq))\n",
    "```"
   ]
  },
  {
   "cell_type": "markdown",
   "id": "5a5a81dc",
   "metadata": {},
   "source": [
    "Execution:\n",
    "\n",
    "| <img src=\"./R1_1.png\"> |\n",
    "| :---: |\n",
    "| <img src=\"./R1_2.png\"> |\n",
    "| __R1 Execution Result__|"
   ]
  },
  {
   "cell_type": "markdown",
   "id": "5a615f16",
   "metadata": {},
   "source": [
    "## R2\n",
    "\n",
    "- Write a relational algebra query that produces a relation showing **students who have taken sections taught by their advisors**\n",
    "    - A section is identified by `(course_id, sec_id, semester, year)`\n",
    "- Your output should have the following columns (names should match exactly; there should be no prefixes):\n",
    "    - `student_name`\n",
    "    - `instructor_name`\n",
    "    - `course_id`\n",
    "    - `sec_id`\n",
    "    - `semester`\n",
    "    - `year`\n",
    "    - `grade`\n",
    "- You should use the `takes`, `teaches`, `advisor`, `student`, and `instructor` tables\n",
    "\n",
    "\n",
    "- As an example, one row you should get is\n",
    "\n",
    "| student_name | instructor_name | course_id | sec_id | semester | year | grade |\n",
    "|--------------|-----------------|-----------|--------|----------|------|-------|\n",
    "| 'Shankar'    | 'Srinivasan'    | 'CS-101'  | 1      | 'Fall'   | 2009 | 'C'   |\n",
    "\n",
    "- Shankar took CS-101, section 1 in Fall of 2009, which was taught by Srinivasan. Additionally, Srinivasan advises Shankar"
   ]
  },
  {
   "cell_type": "markdown",
   "id": "250684a3",
   "metadata": {},
   "source": [
    "Algebra statement:\n",
    "\n",
    "```\n",
    "π student_name←student.name, instructor_name←instructor.name, course_id←takes.course_id,\n",
    "sec_id←takes.sec_id, semester←takes.semester, year←takes.year, grade←takes.grade\n",
    "(((σ teaches.ID=advisor.i_id\n",
    "((takes⨝ ((takes.course_id=teaches.course_id)∧(takes.sec_id=teaches.sec_id)∧\n",
    "(takes.semester=teaches.semester)∧(takes.year=teaches.year)) teaches)\n",
    "⟕ takes.ID=advisor.s_id advisor)\n",
    ")⟕ takes.ID=student.ID student)⟕ teaches.ID=instructor.ID instructor)\n",
    "```"
   ]
  },
  {
   "cell_type": "markdown",
   "id": "7dac7d0f",
   "metadata": {},
   "source": [
    "Execution:\n",
    "\n",
    "| <img src=\"./R2_1.png\" width=70% height=\"auto\"> |\n",
    "| :---: |\n",
    "| <img src=\"./R2_2.png\" width=70% height=\"auto\"> |\n",
    "| __R2 Execution Result__|"
   ]
  },
  {
   "cell_type": "markdown",
   "id": "bb7afb27",
   "metadata": {},
   "source": [
    "## R3\n",
    "\n",
    "- Write a relational algebra query that produces a relation showing **sections that occur on Friday and start after 10 AM**\n",
    "- Your output should have the following columns (names should match exactly; there should be no prefixes):\n",
    "    - `course_title`\n",
    "    - `sec_id`\n",
    "    - `semester`\n",
    "    - `year`\n",
    "    - `day`\n",
    "    - `start_hr`\n",
    "- You should use the `course`, `section`, and `time_slot` tables"
   ]
  },
  {
   "cell_type": "markdown",
   "id": "21fe18b6",
   "metadata": {},
   "source": [
    "Algebra statement:\n",
    "\n",
    "```\n",
    "π course_title←course.title, sec_id←section.sec_id, semester←section.semester, year←section.year, day←time_slot.day, start_hr←time_slot.start_hr\n",
    "((σ time_slot.day='F' ∧ time_slot.start_hr>10\n",
    "(section⟕ section.time_slot_id=time_slot.time_slot_id time_slot))\n",
    "⟕ section.course_id=course.course_id course)\n",
    "```"
   ]
  },
  {
   "cell_type": "markdown",
   "id": "da1898ec",
   "metadata": {},
   "source": [
    "Execution:\n",
    "\n",
    "| <img src=\"./R3_1.png\" width=70% height=\"auto\"> |\n",
    "| :---: |\n",
    "| <img src=\"./R3_2.png\" width=70% height=\"auto\"> |\n",
    "| __R3 Execution Result__|"
   ]
  }
 ],
 "metadata": {
  "kernelspec": {
   "display_name": "Python 3 (ipykernel)",
   "language": "python",
   "name": "python3"
  },
  "language_info": {
   "codemirror_mode": {
    "name": "ipython",
    "version": 3
   },
   "file_extension": ".py",
   "mimetype": "text/x-python",
   "name": "python",
   "nbconvert_exporter": "python",
   "pygments_lexer": "ipython3",
   "version": "3.9.12"
  },
  "toc": {
   "base_numbering": 1,
   "nav_menu": {},
   "number_sections": true,
   "sideBar": true,
   "skip_h1_title": false,
   "title_cell": "Table of Contents",
   "title_sidebar": "Contents",
   "toc_cell": false,
   "toc_position": {},
   "toc_section_display": true,
   "toc_window_display": false
  }
 },
 "nbformat": 4,
 "nbformat_minor": 5
}
